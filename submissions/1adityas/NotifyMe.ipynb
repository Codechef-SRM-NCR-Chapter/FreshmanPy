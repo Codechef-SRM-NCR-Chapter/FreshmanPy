{
 "cells": [
  {
   "cell_type": "markdown",
   "metadata": {},
   "source": [
    "Make sure to run (pip install plyer)if module not installed ... or for terminal ide use terminal to install or cmd for pip command"
   ]
  },
  {
   "cell_type": "code",
   "execution_count": 4,
   "metadata": {},
   "outputs": [
    {
     "name": "stdout",
     "output_type": "stream",
     "text": [
      "Requirement already satisfied: plyer in c:\\users\\adity\\anaconda3\\lib\\site-packages (2.0.0)\n",
      "Note: you may need to restart the kernel to use updated packages.\n"
     ]
    }
   ],
   "source": [
    "pip install plyer"
   ]
  },
  {
   "cell_type": "code",
   "execution_count": null,
   "metadata": {},
   "outputs": [],
   "source": [
    "#modules list\n",
    "from plyer import notification\n",
    "import time\n",
    "import datetime\n",
    "import webbrowser"
   ]
  },
  {
   "cell_type": "markdown",
   "metadata": {},
   "source": [
    "## Main code here starts"
   ]
  },
  {
   "cell_type": "code",
   "execution_count": null,
   "metadata": {},
   "outputs": [],
   "source": [
    "from plyer import notification\n",
    "import time\n",
    "import datetime\n",
    "import webbrowser\n",
    "\n",
    "\n",
    "#\"chill\" is how i had decribe noclass\n",
    "\n",
    " #dictionary of subjects as key and joining link as value\n",
    "    #note to keep the subjects name exatly same as that of names given in subTable...\n",
    "d={\n",
    "'AI': 'https://meet.google.com/lookup/fbyfl7jilv',\n",
    " 'CD_Lab': 'https://meet.google.com/lookup/dwu4dxexws',\n",
    " 'DBMS': 'https://meet.google.com/lookup/f4ssgkw4zw',\n",
    " 'Competitive_skills': 'https://meet.google.com/lookup/cizbohpwv7',\n",
    " 'FiberOptics': 'https://meet.google.com/lookup/bot3dx7irh', \n",
    " 'Dip': ' https://meet.google.com/lookup/hw6zi4pgnu',\n",
    " 'Employ_Skills':'https://www.google.com/',\n",
    " 'AI_LAB':'https://meet.google.com/lookup/dh2263iaer?authuser=1&hs=179',\n",
    " 'Indian_Art':'https://meet.google.com/lookup/fp6y6zdtsf',\n",
    " 'MOOC':'https://meet.google.com/lookup/fkdunojrfx',\n",
    " 'chill':'https://www.google.com/',\n",
    "}\n",
    "\n",
    "def subTable(week,_timeSlot):#create TimeTable according to your class \n",
    "    t=_timeSlot\n",
    "    if week==6 or week==7:week=0\n",
    "    #l is 2d list\n",
    "    l= [\n",
    "      [\"chill\", \"chill\", \"chill\", \"chill\", \"chill\", \"chill\", \"chill\"],#fill all as chill or no class\n",
    "      [\"chill\", \"Dip\", \"CD_Lab\", \"AI\", \"HPC\", \"DBMS\", \"Indian_Art\"],#monday \n",
    "      [\"chill\", \"HPC\", \"DBMS\", \"FiberOptics\", \"Indian_Art\", \"CD_Lab\", \"chill\"],#tuesday\n",
    "      [\"chill\", \"Dip\", \"Employ_Skills\", \"chill\", \"DBMS\", \"AI_LAB\", \"CD_Lab\"],#wednesday\n",
    "      [\"chill\", \"HPC\", \"Comprehension\", \"FiberOptics\", \"chill\", \"MOOC\", \"AI_LAB\"],#thursday\n",
    "      [\"chill\", \"AI\", \"CD_Lab\", \"DBMS\", \"Dip\", \"Competitive_skills\", \"FiberOptics\"],]#friday\n",
    "    return l[week][t]\n",
    "\n",
    "\n",
    "\n",
    "def TimeSlot(h,m):#this function returns class period (1,2,..)\n",
    "    t=h*100+m #equation to combine both hour and minute in a single int value\n",
    "    \n",
    "    if (t < 910 or t > 1620):return 0;\n",
    "    else:\n",
    "        if (t < 1010):return 1\n",
    "        elif (t < 1100 and t >= 1010):return 2\n",
    "        elif (t < 1200 and t >= 1110):return 3\n",
    "        elif (t < 1300 and t >= 1210):return 4\n",
    "        elif (t < 1530 and t >= 1350):return 5\n",
    "        elif (t < 1620 and t >= 1530):return 6\n",
    "        else:return 0\n",
    "\n",
    "\n",
    "\n",
    "\n",
    "while 1:\n",
    "    prev=-1#stores previous class timeSlot \n",
    "    v=datetime.datetime.now()\n",
    "    hr=int(v.strftime('%H'))#current hour\n",
    "    w=int(v.strftime('%w'))#todays week day\n",
    "    mn=int(v.strftime('%M'))#current minute\n",
    "    _timeSlot=TimeSlot(hr,mn)#storing value in a variable \n",
    "    \n",
    "    if _timeSlot != prev:\n",
    "        prev=_timeSlot#to update the prev\n",
    "        Class=subTable(w,_timeSlot)#class name \n",
    "        \n",
    "        url=d[Class]\n",
    "        webbrowser.open_new(url)\n",
    "        notification.notify(\n",
    "                        title=\"Upcomming_Class\",\n",
    "                        message=Class,\n",
    "                        timeout=4, #duration it will show notification,\n",
    "#                         app_icon=\"\", # you can add icon as well here . \n",
    "                        )\n",
    "    \n",
    "    time.sleep(60)#freq of every notification"
   ]
  },
  {
   "cell_type": "markdown",
   "metadata": {},
   "source": [
    "## Functions used below . "
   ]
  },
  {
   "cell_type": "code",
   "execution_count": 3,
   "metadata": {},
   "outputs": [
    {
     "name": "stdout",
     "output_type": "stream",
     "text": [
      "19 24 2\n"
     ]
    }
   ],
   "source": [
    "import datetime\n",
    "\n",
    "v=datetime.datetime.now()\n",
    "# print(v)\n",
    "\n",
    "hr=int(v.strftime('%H'))#current hour\n",
    "w=int(v.strftime('%w'))#week\n",
    "mn=int(v.strftime('%M'))#current minute\n",
    "\n",
    "print(hr,mn,w)\n",
    "# w=int(v.strftime('%w'))"
   ]
  },
  {
   "cell_type": "code",
   "execution_count": 7,
   "metadata": {},
   "outputs": [
    {
     "data": {
      "text/plain": [
       "0"
      ]
     },
     "execution_count": 7,
     "metadata": {},
     "output_type": "execute_result"
    }
   ],
   "source": [
    "def TimeSlot(h,m):\n",
    "    t=h*100+m\n",
    "    \n",
    "    if (t < 910 or t > 1620):return 0;\n",
    "    else:\n",
    "        if (t < 1010):return 1\n",
    "        elif (t < 1100 and t >= 1010):return 2\n",
    "        elif (t < 1200 and t >= 1110):return 3\n",
    "        elif (t < 1300 and t >= 1210):return 4\n",
    "        elif (t < 1530 and t >= 1350):return 5\n",
    "        elif (t < 1620 and t >= 1530):return 6\n",
    "        else:return 0\n",
    "TimeSlot(hr,mn)#class number thats going on \n"
   ]
  },
  {
   "cell_type": "code",
   "execution_count": 10,
   "metadata": {},
   "outputs": [
    {
     "data": {
      "text/plain": [
       "'Dip'"
      ]
     },
     "execution_count": 10,
     "metadata": {},
     "output_type": "execute_result"
    }
   ],
   "source": [
    "def subTable(week,_timeSlot):\n",
    "    t=_timeSlot\n",
    "    if week==6 or week==7:week=0\n",
    "        \n",
    "    l= [\n",
    "      [\"chill\", \"chill\", \"chill\", \"chill\", \"chill\", \"chill\", \"chill\"],\n",
    "      [\"chill\", \"Dip\", \"CD_Lab\", \"AI\", \"HPC\", \"DBMS\", \"Indian_Art\"],#monday \n",
    "      [\"chill\", \"HPC\", \"DBMS\", \"FiberOptics\", \"Indian_Art\", \"CD_Lab\", \"chill\"],#tuesday\n",
    "      [\"chill\", \"Dip\", \"Employ_Skills\", \"chill\", \"DBMS\", \"AI_LAB\", \"CD_Lab\"],#so on...\n",
    "      [\"chill\", \"HPC\", \"Comprehension\", \"FiberOptics\", \"chill\", \"MOOC\", \"AI_LAB\"],\n",
    "      [\"chill\", \"AI\", \"CD_Lab\", \"DBMS\", \"Dip\", \"Competitive_skills\", \"FiberOptics\"],]\n",
    "    return l[week][t]\n",
    "subTable(1,1)"
   ]
  },
  {
   "cell_type": "code",
   "execution_count": null,
   "metadata": {},
   "outputs": [],
   "source": [
    "import webbrowser\n",
    "url=\"https://www.youtube.com/\"#name of link\n",
    "webbrowser.open_new(url)"
   ]
  }
 ],
 "metadata": {
  "kernelspec": {
   "display_name": "Python 3",
   "language": "python",
   "name": "python3"
  },
  "language_info": {
   "codemirror_mode": {
    "name": "ipython",
    "version": 3
   },
   "file_extension": ".py",
   "mimetype": "text/x-python",
   "name": "python",
   "nbconvert_exporter": "python",
   "pygments_lexer": "ipython3",
   "version": "3.8.5"
  }
 },
 "nbformat": 4,
 "nbformat_minor": 4
}
